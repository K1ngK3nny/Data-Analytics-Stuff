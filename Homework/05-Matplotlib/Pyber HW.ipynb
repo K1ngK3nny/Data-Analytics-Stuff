{
 "cells": [
  {
   "cell_type": "code",
   "execution_count": 1062,
   "metadata": {
    "collapsed": true
   },
   "outputs": [],
   "source": [
    "import csv\n",
    "import matplotlib.pyplot as plt\n",
    "import seaborn as sb\n",
    "import pandas as pd\n",
    "import numpy as np\n"
   ]
  },
  {
   "cell_type": "code",
   "execution_count": 1063,
   "metadata": {
    "collapsed": true
   },
   "outputs": [],
   "source": [
    "city_file = \"city_data.csv\"\n",
    "ride_file = \"ride_data.csv\"\n",
    "city_df = pd.read_csv(city_file)\n",
    "ride_df = pd.read_csv(ride_file)"
   ]
  },
  {
   "cell_type": "code",
   "execution_count": 1064,
   "metadata": {},
   "outputs": [
    {
     "data": {
      "text/html": [
       "<div>\n",
       "<style>\n",
       "    .dataframe thead tr:only-child th {\n",
       "        text-align: right;\n",
       "    }\n",
       "\n",
       "    .dataframe thead th {\n",
       "        text-align: left;\n",
       "    }\n",
       "\n",
       "    .dataframe tbody tr th {\n",
       "        vertical-align: top;\n",
       "    }\n",
       "</style>\n",
       "<table border=\"1\" class=\"dataframe\">\n",
       "  <thead>\n",
       "    <tr style=\"text-align: right;\">\n",
       "      <th></th>\n",
       "      <th>city</th>\n",
       "      <th>date</th>\n",
       "      <th>fare</th>\n",
       "      <th>ride_id</th>\n",
       "      <th>driver_count</th>\n",
       "      <th>type</th>\n",
       "    </tr>\n",
       "  </thead>\n",
       "  <tbody>\n",
       "    <tr>\n",
       "      <th>2402</th>\n",
       "      <td>West Kevintown</td>\n",
       "      <td>2016-02-10 00:50:04</td>\n",
       "      <td>34.69</td>\n",
       "      <td>9595491362610</td>\n",
       "      <td>5</td>\n",
       "      <td>Rural</td>\n",
       "    </tr>\n",
       "    <tr>\n",
       "      <th>2403</th>\n",
       "      <td>East Troybury</td>\n",
       "      <td>2016-03-14 01:55:32</td>\n",
       "      <td>38.80</td>\n",
       "      <td>9205811495606</td>\n",
       "      <td>3</td>\n",
       "      <td>Rural</td>\n",
       "    </tr>\n",
       "    <tr>\n",
       "      <th>2404</th>\n",
       "      <td>North Whitney</td>\n",
       "      <td>2016-01-26 01:06:41</td>\n",
       "      <td>34.92</td>\n",
       "      <td>4165974278063</td>\n",
       "      <td>10</td>\n",
       "      <td>Rural</td>\n",
       "    </tr>\n",
       "    <tr>\n",
       "      <th>2405</th>\n",
       "      <td>South Joseph</td>\n",
       "      <td>2016-09-28 07:30:55</td>\n",
       "      <td>12.55</td>\n",
       "      <td>4336212615821</td>\n",
       "      <td>3</td>\n",
       "      <td>Rural</td>\n",
       "    </tr>\n",
       "    <tr>\n",
       "      <th>2406</th>\n",
       "      <td>South Elizabethmouth</td>\n",
       "      <td>2016-04-21 10:20:09</td>\n",
       "      <td>16.50</td>\n",
       "      <td>5702608059064</td>\n",
       "      <td>3</td>\n",
       "      <td>Rural</td>\n",
       "    </tr>\n",
       "  </tbody>\n",
       "</table>\n",
       "</div>"
      ],
      "text/plain": [
       "                      city                 date   fare        ride_id  \\\n",
       "2402        West Kevintown  2016-02-10 00:50:04  34.69  9595491362610   \n",
       "2403         East Troybury  2016-03-14 01:55:32  38.80  9205811495606   \n",
       "2404         North Whitney  2016-01-26 01:06:41  34.92  4165974278063   \n",
       "2405          South Joseph  2016-09-28 07:30:55  12.55  4336212615821   \n",
       "2406  South Elizabethmouth  2016-04-21 10:20:09  16.50  5702608059064   \n",
       "\n",
       "      driver_count   type  \n",
       "2402             5  Rural  \n",
       "2403             3  Rural  \n",
       "2404            10  Rural  \n",
       "2405             3  Rural  \n",
       "2406             3  Rural  "
      ]
     },
     "execution_count": 1064,
     "metadata": {},
     "output_type": "execute_result"
    }
   ],
   "source": [
    " \n",
    "combined_df = pd.merge(ride_df,city_df,how='left',on=['city','city'])\n",
    "combined_df.tail()\n"
   ]
  },
  {
   "cell_type": "code",
   "execution_count": 1065,
   "metadata": {},
   "outputs": [],
   "source": [
    "\n",
    "#combined_df.fillna(1)\n",
    "Ride_Type = combined_df.groupby('city')['type'].max()\n",
    "Total_drivers = combined_df.groupby('city').max()['driver_count']\n",
    "Total_rides = combined_df.groupby('city').count()['ride_id']\n",
    "Average_Fare = combined_df.groupby('city').mean()['fare']\n",
    "\n",
    "\n",
    "\n"
   ]
  },
  {
   "cell_type": "code",
   "execution_count": 1066,
   "metadata": {},
   "outputs": [],
   "source": [
    "chart_df = pd.DataFrame({\"Ride_Type\": Ride_Type,\n",
    "                         \"Total_Drivers_per_City\": Total_drivers,\n",
    "                         \"Total_Rides_per_City\": Total_rides,\n",
    "                         \"Average_Fare\": Average_Fare})\n",
    "                         \n",
    "\n",
    "\n",
    "#chart_df[\"Average Fare\"] = chart_df[\"Average Fare\"].map(\"${:,.2f}\".format)\n",
    "\n"
   ]
  },
  {
   "cell_type": "code",
   "execution_count": 1067,
   "metadata": {},
   "outputs": [],
   "source": [
    "chart_df = chart_df[[\"Ride_Type\", \"Total_Drivers_per_City\", \"Total_Rides_per_City\", \"Average_Fare\"]]"
   ]
  },
  {
   "cell_type": "code",
   "execution_count": 1068,
   "metadata": {},
   "outputs": [
    {
     "data": {
      "text/html": [
       "<div>\n",
       "<style>\n",
       "    .dataframe thead tr:only-child th {\n",
       "        text-align: right;\n",
       "    }\n",
       "\n",
       "    .dataframe thead th {\n",
       "        text-align: left;\n",
       "    }\n",
       "\n",
       "    .dataframe tbody tr th {\n",
       "        vertical-align: top;\n",
       "    }\n",
       "</style>\n",
       "<table border=\"1\" class=\"dataframe\">\n",
       "  <thead>\n",
       "    <tr style=\"text-align: right;\">\n",
       "      <th></th>\n",
       "      <th>Ride_Type</th>\n",
       "      <th>Total_Drivers_per_City</th>\n",
       "      <th>Total_Rides_per_City</th>\n",
       "      <th>Average_Fare</th>\n",
       "    </tr>\n",
       "    <tr>\n",
       "      <th>city</th>\n",
       "      <th></th>\n",
       "      <th></th>\n",
       "      <th></th>\n",
       "      <th></th>\n",
       "    </tr>\n",
       "  </thead>\n",
       "  <tbody>\n",
       "    <tr>\n",
       "      <th>Alvarezhaven</th>\n",
       "      <td>Urban</td>\n",
       "      <td>21</td>\n",
       "      <td>31</td>\n",
       "      <td>23.928710</td>\n",
       "    </tr>\n",
       "    <tr>\n",
       "      <th>Alyssaberg</th>\n",
       "      <td>Urban</td>\n",
       "      <td>67</td>\n",
       "      <td>26</td>\n",
       "      <td>20.609615</td>\n",
       "    </tr>\n",
       "    <tr>\n",
       "      <th>Anitamouth</th>\n",
       "      <td>Suburban</td>\n",
       "      <td>16</td>\n",
       "      <td>9</td>\n",
       "      <td>37.315556</td>\n",
       "    </tr>\n",
       "    <tr>\n",
       "      <th>Antoniomouth</th>\n",
       "      <td>Urban</td>\n",
       "      <td>21</td>\n",
       "      <td>22</td>\n",
       "      <td>23.625000</td>\n",
       "    </tr>\n",
       "    <tr>\n",
       "      <th>Aprilchester</th>\n",
       "      <td>Urban</td>\n",
       "      <td>49</td>\n",
       "      <td>19</td>\n",
       "      <td>21.981579</td>\n",
       "    </tr>\n",
       "  </tbody>\n",
       "</table>\n",
       "</div>"
      ],
      "text/plain": [
       "             Ride_Type  Total_Drivers_per_City  Total_Rides_per_City  \\\n",
       "city                                                                   \n",
       "Alvarezhaven     Urban                      21                    31   \n",
       "Alyssaberg       Urban                      67                    26   \n",
       "Anitamouth    Suburban                      16                     9   \n",
       "Antoniomouth     Urban                      21                    22   \n",
       "Aprilchester     Urban                      49                    19   \n",
       "\n",
       "              Average_Fare  \n",
       "city                        \n",
       "Alvarezhaven     23.928710  \n",
       "Alyssaberg       20.609615  \n",
       "Anitamouth       37.315556  \n",
       "Antoniomouth     23.625000  \n",
       "Aprilchester     21.981579  "
      ]
     },
     "execution_count": 1068,
     "metadata": {},
     "output_type": "execute_result"
    }
   ],
   "source": [
    "chart_df.head()"
   ]
  },
  {
   "cell_type": "code",
   "execution_count": 1069,
   "metadata": {},
   "outputs": [
    {
     "data": {
      "text/plain": [
       "<matplotlib.legend.Legend at 0x20bde15eda0>"
      ]
     },
     "execution_count": 1069,
     "metadata": {},
     "output_type": "execute_result"
    }
   ],
   "source": [
    "x = chart_df['Total_Rides_per_City']\n",
    "y = chart_df['Average_Fare']\n",
    "z = chart_df['Total_Drivers_per_City']\n",
    "colors = \"lightskyblue\", \"lightcoral\", \"Gold\"\n",
    "city_type = \"Urban\", \"Suburban\", \"Rural\"\n",
    "plt.scatter(x, y, s=z[::-1]*4, c=colors, alpha=0.2, edgecolors='Grey', label=\"City Type\", linewidth=3)\n",
    "\n",
    "#Total_Rides_per_City, Average_Fare, Total_rides = x, y, z\n",
    "#colors = ['Gold', 'Light Sky Blue', 'Light Coral']\n",
    "#chart_df.plot(kind=\"scatter\", x=\"Total_Drivers_per_City\", y=\"Average_Fare\", grid=True, figsize=(20,10),\n",
    "              #title=\"Pyber Ride Data\")\n",
    "\n",
    "plt.axis([0,70,0,70])\n",
    "plt.xlabel(\"Total Number of Rides \" + \"(\" + \"Per City\" + \")\")\n",
    "plt.ylabel(\"Average Fare \" + \"(\" + \"$\" + \")\")\n",
    "plt.title(\"Pyber Ride Sharing Data\")  \n",
    "plt.legend() "
   ]
  },
  {
   "cell_type": "code",
   "execution_count": 1070,
   "metadata": {},
   "outputs": [
    {
     "data": {
      "image/png": "[encoded data removed]",
      "text/plain": [
       "<matplotlib.figure.Figure at 0x20bde15ed68>"
      ]
     },
     "metadata": {},
     "output_type": "display_data"
    }
   ],
   "source": [
    "plt.show()"
   ]
  },
  {
   "cell_type": "code",
   "execution_count": 1071,
   "metadata": {},
   "outputs": [
    {
     "data": {
      "text/html": [
       "<div>\n",
       "<style>\n",
       "    .dataframe thead tr:only-child th {\n",
       "        text-align: right;\n",
       "    }\n",
       "\n",
       "    .dataframe thead th {\n",
       "        text-align: left;\n",
       "    }\n",
       "\n",
       "    .dataframe tbody tr th {\n",
       "        vertical-align: top;\n",
       "    }\n",
       "</style>\n",
       "<table border=\"1\" class=\"dataframe\">\n",
       "  <thead>\n",
       "    <tr style=\"text-align: right;\">\n",
       "      <th></th>\n",
       "      <th>city</th>\n",
       "      <th>date</th>\n",
       "      <th>fare</th>\n",
       "      <th>ride_id</th>\n",
       "      <th>driver_count</th>\n",
       "      <th>type</th>\n",
       "    </tr>\n",
       "  </thead>\n",
       "  <tbody>\n",
       "    <tr>\n",
       "      <th>0</th>\n",
       "      <td>Sarabury</td>\n",
       "      <td>2016-01-16 13:49:27</td>\n",
       "      <td>38.35</td>\n",
       "      <td>5403689035038</td>\n",
       "      <td>46</td>\n",
       "      <td>Urban</td>\n",
       "    </tr>\n",
       "    <tr>\n",
       "      <th>1</th>\n",
       "      <td>South Roy</td>\n",
       "      <td>2016-01-02 18:42:34</td>\n",
       "      <td>17.49</td>\n",
       "      <td>4036272335942</td>\n",
       "      <td>35</td>\n",
       "      <td>Urban</td>\n",
       "    </tr>\n",
       "    <tr>\n",
       "      <th>2</th>\n",
       "      <td>Wiseborough</td>\n",
       "      <td>2016-01-21 17:35:29</td>\n",
       "      <td>44.18</td>\n",
       "      <td>3645042422587</td>\n",
       "      <td>55</td>\n",
       "      <td>Urban</td>\n",
       "    </tr>\n",
       "    <tr>\n",
       "      <th>3</th>\n",
       "      <td>Spencertown</td>\n",
       "      <td>2016-07-31 14:53:22</td>\n",
       "      <td>6.87</td>\n",
       "      <td>2242596575892</td>\n",
       "      <td>68</td>\n",
       "      <td>Urban</td>\n",
       "    </tr>\n",
       "    <tr>\n",
       "      <th>4</th>\n",
       "      <td>Nguyenbury</td>\n",
       "      <td>2016-07-09 04:42:44</td>\n",
       "      <td>6.28</td>\n",
       "      <td>1543057793673</td>\n",
       "      <td>8</td>\n",
       "      <td>Urban</td>\n",
       "    </tr>\n",
       "  </tbody>\n",
       "</table>\n",
       "</div>"
      ],
      "text/plain": [
       "          city                 date   fare        ride_id  driver_count   type\n",
       "0     Sarabury  2016-01-16 13:49:27  38.35  5403689035038            46  Urban\n",
       "1    South Roy  2016-01-02 18:42:34  17.49  4036272335942            35  Urban\n",
       "2  Wiseborough  2016-01-21 17:35:29  44.18  3645042422587            55  Urban\n",
       "3  Spencertown  2016-07-31 14:53:22   6.87  2242596575892            68  Urban\n",
       "4   Nguyenbury  2016-07-09 04:42:44   6.28  1543057793673             8  Urban"
      ]
     },
     "execution_count": 1071,
     "metadata": {},
     "output_type": "execute_result"
    }
   ],
   "source": [
    "#combined_df[\"fare\"] = combined_df[\"fare\"].map(\"${:,.2f}\".format)\n",
    "combined_df.head()"
   ]
  },
  {
   "cell_type": "code",
   "execution_count": 1072,
   "metadata": {},
   "outputs": [],
   "source": [
    "Sum_fares = combined_df['fare'].sum()\n",
    "Total_fares = combined_df.groupby('type').sum()['fare']\n",
    "#N = 125\n",
    "#for in N:\n",
    "Total_fares_df = pd.DataFrame(Total_fares)  \n"
   ]
  },
  {
   "cell_type": "code",
   "execution_count": 1073,
   "metadata": {},
   "outputs": [
    {
     "name": "stdout",
     "output_type": "stream",
     "text": [
      "Rural 0.0657978645759\n",
      "Suburban 0.314457503056\n",
      "Urban 0.619744632369\n"
     ]
    }
   ],
   "source": [
    "\n",
    "#def main():\n",
    "Percents = []\n",
    "for index, row in Total_fares_df.iterrows():\n",
    "    print(index, row['ride_id']/Sum_rides)\n",
    "    Percents.append(row['ride_id']/Sum_rides)"
   ]
  },
  {
   "cell_type": "code",
   "execution_count": 1074,
   "metadata": {
    "collapsed": true
   },
   "outputs": [],
   "source": [
    "#explode = (0.1,0,0,0,0,0.5,0,0,0,0)\n",
    "#colors = \"lightskyblue\", \"lightcoral\", \"Gold\"\n",
    "#pct_fares = "
   ]
  },
  {
   "cell_type": "code",
   "execution_count": 1075,
   "metadata": {},
   "outputs": [],
   "source": [
    "#plt.pie(pct_fares, explode=explode, labels=pies, colors=colors,\n",
    "        #autopct=\"%1.1f%%\", shadow=True, startangle=140)\n",
    "#plt.pie(sizes, explode=explode, labels=labels, colors=colors,\n",
    "        #autPopct=\"%1.1f%%\", shadow=True, startangle=140)#\n",
    "#plt.axis(\"equal\")"
   ]
  },
  {
   "cell_type": "code",
   "execution_count": 1076,
   "metadata": {},
   "outputs": [],
   "source": [
    "labels = ['Rural', 'Suburban', 'Urban']\n",
    "Percents = [7, 31, 62]"
   ]
  },
  {
   "cell_type": "code",
   "execution_count": 1116,
   "metadata": {
    "collapsed": true
   },
   "outputs": [],
   "source": [
    "explode = (0.1,0,0.5)\n",
    "colors = \"lightskyblue\", \"lightcoral\", \"Gold\""
   ]
  },
  {
   "cell_type": "code",
   "execution_count": 1122,
   "metadata": {},
   "outputs": [
    {
     "data": {
      "text/plain": [
       "([<matplotlib.patches.Wedge at 0x20bde484f98>,\n",
       "  <matplotlib.patches.Wedge at 0x20bde48ea20>,\n",
       "  <matplotlib.patches.Wedge at 0x20bde4964e0>],\n",
       " [Text(-1.03233,0.611792,'Rural'),\n",
       "  Text(-0.972796,-0.513487,'Suburban'),\n",
       "  Text(1.5175,0.507143,'Urban')],\n",
       " [Text(-0.602194,0.356878,'5.2%'),\n",
       "  Text(-0.530616,-0.280084,'27.3%'),\n",
       "  Text(1.04328,0.348661,'67.5%')])"
      ]
     },
     "execution_count": 1122,
     "metadata": {},
     "output_type": "execute_result"
    }
   ],
   "source": [
    "\n",
    "plt.pie(Percents, explode=explode, labels=labels, colors=colors, autopct=\"%1.1f%%\", shadow=True, startangle=140)"
   ]
  },
  {
   "cell_type": "code",
   "execution_count": 1123,
   "metadata": {},
   "outputs": [
    {
     "data": {
      "text/plain": [
       "<matplotlib.legend.Legend at 0x20bde484c18>"
      ]
     },
     "execution_count": 1123,
     "metadata": {},
     "output_type": "execute_result"
    }
   ],
   "source": [
    "plt.axis(\"equal\")\n",
    "plt.title(\"% of Total Fares by City Type\")\n",
    "plt.legend()"
   ]
  },
  {
   "cell_type": "code",
   "execution_count": 1124,
   "metadata": {},
   "outputs": [
    {
     "data": {
      "image/png": "[encoded data removed]",
      "text/plain": [
       "<matplotlib.figure.Figure at 0x20bde112240>"
      ]
     },
     "metadata": {},
     "output_type": "display_data"
    }
   ],
   "source": [
    "plt.show()"
   ]
  },
  {
   "cell_type": "code",
   "execution_count": 1081,
   "metadata": {},
   "outputs": [],
   "source": [
    "#% of Total Rides by City Type\n",
    "#combined_df.loc[:, 'ride_id','type'].apply(max, axis=0)\n",
    "Total_rides = combined_df.groupby('type').count()['ride_id']\n",
    "Total_rides_df = pd.DataFrame(Total_rides)\n",
    "Sum_rides = combined_df['ride_id'].count()\n"
   ]
  },
  {
   "cell_type": "code",
   "execution_count": 1102,
   "metadata": {},
   "outputs": [
    {
     "name": "stdout",
     "output_type": "stream",
     "text": [
      "Rural 0.0519318653926\n",
      "Suburban 0.272953884504\n",
      "Urban 0.675114250104\n"
     ]
    }
   ],
   "source": [
    "Percents = []\n",
    "for index, row in Total_rides_df.iterrows():\n",
    "    print(index, row['ride_id']/Sum_rides)\n",
    "    Percents.append(row['ride_id']/Sum_rides)\n",
    "    "
   ]
  },
  {
   "cell_type": "code",
   "execution_count": 1113,
   "metadata": {
    "collapsed": true
   },
   "outputs": [],
   "source": [
    "labels = ['Rural', 'Suburban', 'Urban']\n",
    "explode = (0.1,0,0.5)\n",
    "colors = \"lightskyblue\", \"lightcoral\", \"Gold\""
   ]
  },
  {
   "cell_type": "code",
   "execution_count": 1114,
   "metadata": {},
   "outputs": [
    {
     "data": {
      "text/plain": [
       "([<matplotlib.patches.Wedge at 0x20bde3d1ef0>,\n",
       "  <matplotlib.patches.Wedge at 0x20bde3dcb00>,\n",
       "  <matplotlib.patches.Wedge at 0x20bde3c98d0>],\n",
       " [Text(-1.03233,0.611792,'Rural'),\n",
       "  Text(-0.972796,-0.513487,'Suburban'),\n",
       "  Text(1.5175,0.507143,'Urban')],\n",
       " [Text(-0.602194,0.356878,'5.2%'),\n",
       "  Text(-0.530616,-0.280084,'27.3%'),\n",
       "  Text(1.04328,0.348661,'67.5%')])"
      ]
     },
     "execution_count": 1114,
     "metadata": {},
     "output_type": "execute_result"
    }
   ],
   "source": [
    "plt.pie(Percents, explode=explode, labels=labels, colors=colors, autopct=\"%1.1f%%\", shadow=True, startangle=140)"
   ]
  },
  {
   "cell_type": "code",
   "execution_count": 1115,
   "metadata": {},
   "outputs": [
    {
     "data": {
      "image/png": "[encoded data removed]",
      "text/plain": [
       "<matplotlib.figure.Figure at 0x20bde287518>"
      ]
     },
     "metadata": {},
     "output_type": "display_data"
    }
   ],
   "source": [
    "plt.axis(\"equal\")\n",
    "plt.title(\"% of Total Rides by City Type\")\n",
    "plt.legend()\n",
    "plt.show()"
   ]
  },
  {
   "cell_type": "code",
   "execution_count": 1094,
   "metadata": {},
   "outputs": [
    {
     "data": {
      "text/plain": [
       "type\n",
       "Rural         727\n",
       "Suburban     9730\n",
       "Urban       64501\n",
       "Name: driver_count, dtype: int64"
      ]
     },
     "execution_count": 1094,
     "metadata": {},
     "output_type": "execute_result"
    }
   ],
   "source": [
    "Total_drivers = combined_df.groupby('type').sum()['driver_count']\n",
    "Total_drivers_df = pd.DataFrame(Total_drivers)\n",
    "Sum_drivers = combined_df['driver_count'].sum()\n",
    "Total_drivers"
   ]
  },
  {
   "cell_type": "code",
   "execution_count": 1095,
   "metadata": {},
   "outputs": [
    {
     "name": "stdout",
     "output_type": "stream",
     "text": [
      "Rural 0.00969876464153\n",
      "Suburban 0.129806024707\n",
      "Urban 0.860495210651\n"
     ]
    }
   ],
   "source": [
    "for index, row in Total_drivers_df.iterrows():\n",
    "    print(index, row['driver_count']/Sum_drivers)\n",
    "    next "
   ]
  },
  {
   "cell_type": "code",
   "execution_count": 1097,
   "metadata": {
    "collapsed": true
   },
   "outputs": [],
   "source": [
    "labels = ['Rural', 'Suburban', 'Urban']\n",
    "Percents = [9, 12, 86]\n",
    "explode = (0.1,0,0,0,0,0.5,0,0,0,0)\n",
    "colors = \"lightskyblue\", \"lightcoral\", \"Gold\""
   ]
  },
  {
   "cell_type": "code",
   "execution_count": 1125,
   "metadata": {},
   "outputs": [
    {
     "data": {
      "text/plain": [
       "([<matplotlib.patches.Wedge at 0x20bde4ea438>,\n",
       "  <matplotlib.patches.Wedge at 0x20bde4eae80>,\n",
       "  <matplotlib.patches.Wedge at 0x20bde4f0940>],\n",
       " [Text(-1.03233,0.611792,'Rural'),\n",
       "  Text(-0.972796,-0.513487,'Suburban'),\n",
       "  Text(1.5175,0.507143,'Urban')],\n",
       " [Text(-0.602194,0.356878,'5.2%'),\n",
       "  Text(-0.530616,-0.280084,'27.3%'),\n",
       "  Text(1.04328,0.348661,'67.5%')])"
      ]
     },
     "execution_count": 1125,
     "metadata": {},
     "output_type": "execute_result"
    }
   ],
   "source": [
    "plt.pie(Percents, explode=explode, labels=labels, colors=colors, autopct=\"%1.1f%%\", shadow=True, startangle=140)"
   ]
  },
  {
   "cell_type": "code",
   "execution_count": 1126,
   "metadata": {},
   "outputs": [
    {
     "data": {
      "image/png": "[encoded data removed]",
      "text/plain": [
       "<matplotlib.figure.Figure at 0x20bde45eac8>"
      ]
     },
     "metadata": {},
     "output_type": "display_data"
    }
   ],
   "source": [
    "plt.axis(\"equal\")\n",
    "plt.title(\"% of Total Rides by City Type\")\n",
    "plt.legend()\n",
    "plt.show()"
   ]
  },
  {
   "cell_type": "code",
   "execution_count": null,
   "metadata": {
    "collapsed": true
   },
   "outputs": [],
   "source": []
  }
 ],
 "metadata": {
  "kernelspec": {
   "display_name": "Python 3",
   "language": "python",
   "name": "python3"
  },
  "language_info": {
   "codemirror_mode": {
    "name": "ipython",
    "version": 3
   },
   "file_extension": ".py",
   "mimetype": "text/x-python",
   "name": "python",
   "nbconvert_exporter": "python",
   "pygments_lexer": "ipython3",
   "version": "3.6.3"
  }
 },
 "nbformat": 4,
 "nbformat_minor": 2
}
